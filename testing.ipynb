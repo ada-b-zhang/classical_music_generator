{
 "cells": [
  {
   "cell_type": "code",
   "execution_count": 3,
   "id": "c1cce282",
   "metadata": {},
   "outputs": [],
   "source": [
    "from mcp.server.fastmcp import FastMCP, Context\n",
    "import os\n",
    "import requests\n",
    "\n",
    "# Create an MCP server\n",
    "mcp = FastMCP(\"AI Sticky Notes\", dependencies=[\"requests\"])\n",
    "BACKEND_V1_API_URL = \"https://public-api.beatoven.ai/api/v1\"\n",
    "BACKEND_API_HEADER_KEY = \"XM1bWK10aOaffhAqQtlGRQ\"\n",
    "# NOTES_FILE = os.path.join(os.path.dirname(__file__), \"notes.txt\")\n"
   ]
  },
  {
   "cell_type": "code",
   "execution_count": 4,
   "id": "5c61414b",
   "metadata": {},
   "outputs": [
    {
     "name": "stdout",
     "output_type": "stream",
     "text": [
      "/Users/adazhang/Music/boba2.wav\n"
     ]
    }
   ],
   "source": [
    "task_id = '9be7116b-a931-47c5-bf5a-d60efc5ae626_1'\n",
    "output_filename = 'boba2.wav'\n",
    "home_dir = os.path.expanduser(\"~\")\n",
    "music_path = os.path.join(home_dir, \"Music\")\n",
    "try:\n",
    "    response = requests.get(\n",
    "        f\"{BACKEND_V1_API_URL}/tasks/{task_id}\",\n",
    "        headers={\"Authorization\": f\"Bearer {BACKEND_API_HEADER_KEY}\"},\n",
    "    )    \n",
    "    if response.status_code == 200:\n",
    "        data = response.json()\n",
    "        if data['status'] == 'composed':\n",
    "            track_url_for_download = data['meta']['track_url']\n",
    "            track_response = requests.get(track_url_for_download)\n",
    "            track_response.raise_for_status()\n",
    "            with open(os.path.join(music_path, output_filename), \"wb\") as file:\n",
    "                file.write(track_response.content)\n",
    "            print(os.path.join(music_path, output_filename))\n",
    "        \n",
    "        else: \n",
    "            print('Still composing...')\n",
    "    else:\n",
    "        raise Exception({\"error\": \"Download failed\"})\n",
    "    \n",
    "except requests.ConnectionError as e:\n",
    "    raise Exception({\"error\": \"Could not connect\"}) from e\n",
    "except Exception as e:\n",
    "    raise Exception({\"error\": \"Failed to make a request\"}) from e"
   ]
  },
  {
   "cell_type": "code",
   "execution_count": null,
   "id": "7f7b3e64",
   "metadata": {},
   "outputs": [],
   "source": []
  }
 ],
 "metadata": {
  "kernelspec": {
   "display_name": "MGP",
   "language": "python",
   "name": "python3"
  },
  "language_info": {
   "codemirror_mode": {
    "name": "ipython",
    "version": 3
   },
   "file_extension": ".py",
   "mimetype": "text/x-python",
   "name": "python",
   "nbconvert_exporter": "python",
   "pygments_lexer": "ipython3",
   "version": "3.11.12"
  }
 },
 "nbformat": 4,
 "nbformat_minor": 5
}
