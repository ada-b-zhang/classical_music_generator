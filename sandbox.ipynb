{
 "cells": [
  {
   "cell_type": "code",
   "execution_count": 8,
   "metadata": {},
   "outputs": [
    {
     "data": {
      "text/plain": [
       "array([(-8.983334  , 2.8, -4.491667  , 1.4,   0, 168, 43, 1, 'P02_n1320', 120),\n",
       "       (-8.983334  , 2.8, -4.491667  , 1.4,   0, 168, 55, 1, 'P02_n1321', 120),\n",
       "       (-5.983333  , 2.8, -2.9916666 , 1.4, 180, 168, 50, 1, 'P02_n1322', 120),\n",
       "       (-5.983333  , 2.8, -2.9916666 , 1.4, 180, 168, 55, 1, 'P02_n1323', 120),\n",
       "       (-2.9833333 , 2.8, -1.4916667 , 1.4, 360, 168, 52, 1, 'P02_n1324', 120),\n",
       "       (-2.9833333 , 2.8, -1.4916667 , 1.4, 360, 168, 60, 1, 'P02_n1325', 120),\n",
       "       ( 0.01666667, 2.8,  0.00833333, 1.4, 540, 168, 47, 1, 'P02_n1326', 120),\n",
       "       ( 0.01666667, 2.8,  0.00833333, 1.4, 540, 168, 55, 1, 'P02_n1327', 120),\n",
       "       ( 1.        , 0.8,  0.5       , 0.4,  60,  48, 67, 1, 'P00_n0', 120),\n",
       "       ( 1.        , 0.8,  0.5       , 0.4,  60,  48, 67, 1, 'P01_n1108', 120)],\n",
       "      dtype=[('onset_beat', '<f4'), ('duration_beat', '<f4'), ('onset_quarter', '<f4'), ('duration_quarter', '<f4'), ('onset_div', '<i4'), ('duration_div', '<i4'), ('pitch', '<i4'), ('voice', '<i4'), ('id', '<U256'), ('divs_pq', '<i4')])"
      ]
     },
     "execution_count": 8,
     "metadata": {},
     "output_type": "execute_result"
    }
   ],
   "source": [
    "import partitura as pt\n",
    "import warnings\n",
    "\n",
    "warnings.filterwarnings('ignore')\n",
    "file = './midis/jesu1.mid'\n",
    "\n",
    "load_score = pt.load_score(file)\n",
    "load_score_as_part = pt.load_score_as_part(file)\n",
    "load_score_midi = pt.load_score_midi(file)\n",
    "load_score.note_array()[:10]"
   ]
  },
  {
   "cell_type": "code",
   "execution_count": 9,
   "metadata": {},
   "outputs": [
    {
     "data": {
      "text/plain": [
       "array([(0., 2.8, 0. , 1.4,   0, 168, 43, 3, 'n1320'),\n",
       "       (0., 2.8, 0. , 1.4,   0, 168, 55, 3, 'n1321'),\n",
       "       (1., 0.8, 0.5, 0.4,  60,  48, 67, 1, 'n0'),\n",
       "       (1., 0.8, 0.5, 0.4,  60,  48, 67, 4, 'n1999'),\n",
       "       (1., 0.8, 0.5, 0.4,  60,  48, 67, 2, 'n1108'),\n",
       "       (2., 0.8, 1. , 0.4, 120,  48, 69, 1, 'n1'),\n",
       "       (2., 0.8, 1. , 0.4, 120,  48, 69, 2, 'n1109'),\n",
       "       (2., 0.8, 1. , 0.4, 120,  48, 69, 4, 'n2000'),\n",
       "       (3., 2.8, 1.5, 1.4, 180, 168, 50, 3, 'n1322'),\n",
       "       (3., 2.8, 1.5, 1.4, 180, 168, 55, 3, 'n1323')],\n",
       "      dtype=[('onset_beat', '<f4'), ('duration_beat', '<f4'), ('onset_quarter', '<f4'), ('duration_quarter', '<f4'), ('onset_div', '<i4'), ('duration_div', '<i4'), ('pitch', '<i4'), ('voice', '<i4'), ('id', '<U256')])"
      ]
     },
     "execution_count": 9,
     "metadata": {},
     "output_type": "execute_result"
    }
   ],
   "source": [
    "load_score_as_part.note_array()[:10]"
   ]
  },
  {
   "cell_type": "code",
   "execution_count": 10,
   "metadata": {},
   "outputs": [
    {
     "data": {
      "text/plain": [
       "array([(-8.983334  , 2.8, -4.491667  , 1.4,   0, 168, 43, 1, 'P02_n1320', 120),\n",
       "       (-8.983334  , 2.8, -4.491667  , 1.4,   0, 168, 55, 1, 'P02_n1321', 120),\n",
       "       (-5.983333  , 2.8, -2.9916666 , 1.4, 180, 168, 50, 1, 'P02_n1322', 120),\n",
       "       (-5.983333  , 2.8, -2.9916666 , 1.4, 180, 168, 55, 1, 'P02_n1323', 120),\n",
       "       (-2.9833333 , 2.8, -1.4916667 , 1.4, 360, 168, 52, 1, 'P02_n1324', 120),\n",
       "       (-2.9833333 , 2.8, -1.4916667 , 1.4, 360, 168, 60, 1, 'P02_n1325', 120),\n",
       "       ( 0.01666667, 2.8,  0.00833333, 1.4, 540, 168, 47, 1, 'P02_n1326', 120),\n",
       "       ( 0.01666667, 2.8,  0.00833333, 1.4, 540, 168, 55, 1, 'P02_n1327', 120),\n",
       "       ( 1.        , 0.8,  0.5       , 0.4,  60,  48, 67, 1, 'P00_n0', 120),\n",
       "       ( 1.        , 0.8,  0.5       , 0.4,  60,  48, 67, 1, 'P01_n1108', 120)],\n",
       "      dtype=[('onset_beat', '<f4'), ('duration_beat', '<f4'), ('onset_quarter', '<f4'), ('duration_quarter', '<f4'), ('onset_div', '<i4'), ('duration_div', '<i4'), ('pitch', '<i4'), ('voice', '<i4'), ('id', '<U256'), ('divs_pq', '<i4')])"
      ]
     },
     "execution_count": 10,
     "metadata": {},
     "output_type": "execute_result"
    }
   ],
   "source": [
    "load_score_midi.note_array()[:10]"
   ]
  },
  {
   "cell_type": "code",
   "execution_count": null,
   "metadata": {},
   "outputs": [],
   "source": []
  }
 ],
 "metadata": {
  "kernelspec": {
   "display_name": "limewire",
   "language": "python",
   "name": "python3"
  },
  "language_info": {
   "name": "python",
   "version": "3.10.16"
  }
 },
 "nbformat": 4,
 "nbformat_minor": 2
}
